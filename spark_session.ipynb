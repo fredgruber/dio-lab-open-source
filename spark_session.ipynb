{
  "nbformat": 4,
  "nbformat_minor": 0,
  "metadata": {
    "colab": {
      "provenance": [],
      "authorship_tag": "ABX9TyPu4qJMQZZW7gSjzdnXb6zr",
      "include_colab_link": true
    },
    "kernelspec": {
      "name": "python3",
      "display_name": "Python 3"
    },
    "language_info": {
      "name": "python"
    }
  },
  "cells": [
    {
      "cell_type": "markdown",
      "metadata": {
        "id": "view-in-github",
        "colab_type": "text"
      },
      "source": [
        "<a href=\"https://colab.research.google.com/github/fredgruber/dio-lab-open-source/blob/main/spark_session.ipynb\" target=\"_parent\"><img src=\"https://colab.research.google.com/assets/colab-badge.svg\" alt=\"Open In Colab\"/></a>"
      ]
    },
    {
      "cell_type": "code",
      "execution_count": null,
      "metadata": {
        "id": "dGMKqVPkAyf1"
      },
      "outputs": [],
      "source": [
        "import os\n",
        "from pyspark.sql import SparkSession\n",
        "\n",
        "\n",
        "def get_spark(app_name=\"IBGE-Datalake\", master=\"local[*]\"):\n",
        "  spark = (\n",
        "    SparkSession.builder\n",
        "        .appName(app_name)\n",
        "        .master(master)\n",
        "        .config(\"spark.sql.shuffle.partitions\", \"200\")\n",
        "        .getOrCreate()\n",
        "  )\n",
        "  return spark"
      ]
    }
  ]
}